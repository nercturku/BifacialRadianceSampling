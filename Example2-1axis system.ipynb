{
 "cells": [
  {
   "cell_type": "code",
   "execution_count": 1,
   "id": "82323f23",
   "metadata": {},
   "outputs": [],
   "source": [
    "import os\n",
    "from bifacial_radiance import *   \n",
    "import pandas as pd\n",
    "import irrmapping\n",
    "import time"
   ]
  },
  {
   "cell_type": "code",
   "execution_count": 2,
   "id": "f60df968",
   "metadata": {},
   "outputs": [
    {
     "name": "stdout",
     "output_type": "stream",
     "text": [
      "Simulation will be stored in C:\\Users\\Shuo Wang\\Documents\\RadianceWorkspace\\radiance_work\\example2\n"
     ]
    }
   ],
   "source": [
    "#%% set parameters\n",
    "\n",
    "workfolder = os.getcwd()\n",
    "if not os.path.exists(workfolder):\n",
    "    os.makedirs(workfolder)\n",
    "print (\"Simulation will be stored in %s\" % workfolder)\n",
    "\n",
    "simulationname = 'Example2'\n",
    "\n",
    "\n",
    "# Traking parameters\n",
    "cumulativesky = False\n",
    "limit_angle = 55 # degrees\n",
    "angledelta = 0.01 #\n",
    "backtrack = True\n",
    "\n",
    "# makeModule parameters\n",
    "\n",
    "moduletype = 'HalfCellModule'\n",
    "numcellsx = 6\n",
    "numcellsy = 22\n",
    "xcell = 0.21\n",
    "ycell = 0.105\n",
    "xcellgap = 0.005\n",
    "ycellgap = 0.0026\n",
    "zcell = 0.0002  \n",
    "\n",
    "x = xcell * numcellsx + xcellgap * (numcellsx-1)    \n",
    "y = ycell * numcellsy + ycellgap * (numcellsy-1)    \n",
    "\n",
    "cellModuleParams = {'numcellsx': numcellsx, 'numcellsy':numcellsy, \n",
    "                         'xcell': xcell, 'ycell': ycell, 'xcellgap': xcellgap, 'ycellgap': ycellgap}\n",
    "\n",
    "xgap = 0.02       \n",
    "ygap = 0.05         \n",
    "zgap = 0.02\n",
    "numpanels = 2\n",
    "originx, originy, originz = (0, 0, 0)\n",
    "\n",
    "\n",
    "# Scene parameters\n",
    "nMods = 15\n",
    "nRows = 5\n",
    "\n",
    "albedo = 0.2\n",
    "gcr = 0.4\n",
    "hub_height = 3.5 # meters\n",
    "\n",
    "\n",
    "CW = y * numpanels + ygap * (numpanels - 1)\n",
    "pitch = CW / gcr\n",
    "\n",
    "torquetube = True\n",
    "axisofrotation = True  # the scene will rotate around the torque tube, and not the middle of the bottom surface of the module\n",
    "diameter = 0.15\n",
    "tubetype = 'Round'    # This will make an octagonal torque tube.\n",
    "material = 'black'   # Torque tube material (0% reflectivity)\n",
    "tubeParams = {'diameter':diameter,\n",
    "              'tubetype':tubetype,\n",
    "              'material':material,\n",
    "              'axisofrotation':axisofrotation}"
   ]
  },
  {
   "cell_type": "code",
   "execution_count": 3,
   "id": "363696db",
   "metadata": {
    "scrolled": true
   },
   "outputs": [
    {
     "name": "stdout",
     "output_type": "stream",
     "text": [
      "path = C:\\Users\\Shuo Wang\\Documents\\RadianceWorkspace\\radiance_work\\example2\n",
      "Making path: images\n",
      "Making path: objects\n",
      "Making path: results\n",
      "Making path: skies\n",
      "Making path: EPWs\n",
      "Making path: materials\n",
      "Loading albedo, 1 value(s), 0.200 avg\n",
      "1 nonzero albedo values.\n",
      "Getting weather file: USA_NJ_McGuire.AFB.724096_TMY3.epw\n",
      " ... OK!\n",
      "8760 line in WeatherFile. Assuming this is a standard hourly WeatherFile for the year for purposes of saving Gencumulativesky temporary weather files in EPW folder.\n",
      "Coercing year to 2021\n",
      "Filtering dates\n",
      "Saving file EPWs\\metdata_temp.csv, # points: 8760\n",
      "Calculating Sun position for Metdata that is right-labeled  with a delta of -30 mins. i.e. 12 is 11:30 sunpos\n"
     ]
    }
   ],
   "source": [
    "#%% load metdata\n",
    "\n",
    "demo = RadianceObj(simulationname,path = workfolder)\n",
    "demo.setGround(albedo)\n",
    "epwfile = demo.getEPW(40.0583,-74.4057) \n",
    "starttime = '2021-06-17_0000'\n",
    "endtime = '2021-06-17_1000'\n",
    "metdata = demo.readWeatherFile(epwfile, starttime=starttime, endtime=endtime, coerce_year=2021) "
   ]
  },
  {
   "cell_type": "code",
   "execution_count": 4,
   "id": "7a886d38",
   "metadata": {},
   "outputs": [
    {
     "name": "stdout",
     "output_type": "stream",
     "text": [
      "\n",
      "Module Name: HalfCellModule\n",
      "Module was shifted by 0.105 in X to avoid sensors on air\n",
      "This is a Cell-Level detailed module with Packaging Factor of 0.96 %\n",
      "Module HalfCellModule updated in module.json\n",
      "\n",
      "Making ~6 .rad files for gendaylit 1-axis workflow (this takes a minute..)\n",
      "6 Radfiles created in /objects/\n"
     ]
    }
   ],
   "source": [
    "#%% make scence\n",
    "\n",
    "mymodule = ModuleObj(name=moduletype, xgap=xgap, ygap=ygap,\n",
    "                zgap=zgap, numpanels=numpanels,cellModule=cellModuleParams, tubeParams=tubeParams, z=zcell)\n",
    "\n",
    "sceneDict = {'pitch':pitch,'hub_height':hub_height, 'nMods': nMods, 'nRows': nRows}\n",
    "trackerdict = demo.set1axis(limit_angle = limit_angle, backtrack = backtrack, gcr = gcr, cumulativesky = cumulativesky)\n",
    "trackerdict = demo.makeScene1axis(module=moduletype, sceneDict=sceneDict) \n"
   ]
  },
  {
   "cell_type": "code",
   "execution_count": 5,
   "id": "44941dcd",
   "metadata": {},
   "outputs": [],
   "source": [
    "#%% create coordinates\n",
    "# Note for tracker system, use a list to save different tilts for different timestamps\n",
    "lineptsFronts = []\n",
    "lineptsBacks = []\n",
    "trackerkeys = sorted(demo.trackerdict.keys())\n",
    "for trackerkey in trackerkeys:\n",
    "    mapdict = {'xcell':xcell, 'ycell':ycell, 'zcell':zcell,\n",
    "               'xcellgap':xcellgap, 'ycellgap':ycellgap, \n",
    "               'numcellsx':numcellsx, 'numcellsy':numcellsy,\n",
    "               'xgap':xgap, 'ygap':ygap, 'numpanels':numpanels,\n",
    "               'nMods':nMods, 'nRows':nRows, 'originx':originx, 'originy':originy,\n",
    "               'height':hub_height, 'pitch':pitch,\n",
    "               'offset':trackerdict[trackerkey]['scene'].module.offsetfromaxis,\n",
    "               'tilt':trackerdict[trackerkey]['surf_tilt'], \n",
    "               'azimuth':trackerdict[trackerkey]['surf_azm']}\n",
    "    \n",
    "    lineptsFront, lineptsBack = irrmapping.genCors(**mapdict, arrayRowRange=[2], modColRange=range(3))\n",
    "    \n",
    "    lineptsFronts.append(lineptsFront)\n",
    "    lineptsBacks.append(lineptsBack)"
   ]
  },
  {
   "cell_type": "code",
   "execution_count": 6,
   "id": "e467248d",
   "metadata": {},
   "outputs": [
    {
     "name": "stdout",
     "output_type": "stream",
     "text": [
      "Creating ~6 skyfiles. \n",
      "Created 6 skyfiles in /skies/\n",
      "Created Example2_1axis_2021-06-17_0500.oct\n",
      "Created Example2_1axis_2021-06-17_1000.oct\n",
      "Created Example2_1axis_2021-06-17_0600.oct\n",
      "Created Example2_1axis_2021-06-17_0700.oct\n",
      "Created Example2_1axis_2021-06-17_0800.oct\n",
      "Created Example2_1axis_2021-06-17_0900.oct\n",
      "Full scan in process for: Example2_1axis_2021-06-17_0500_Front\n",
      "Full scan in process for: Example2_1axis_2021-06-17_0600_Front\n",
      "Full scan in process for: Example2_1axis_2021-06-17_0700_Front\n",
      "Full scan in process for: Example2_1axis_2021-06-17_0800_Front\n",
      "Full scan in process for: Example2_1axis_2021-06-17_0900_Front\n",
      "Full scan in process for: Example2_1axis_2021-06-17_1000_Front\n",
      "Full scan in process for: Example2_1axis_2021-06-17_0500_Back\n",
      "Full scan in process for: Example2_1axis_2021-06-17_0600_Back\n",
      "Full scan in process for: Example2_1axis_2021-06-17_0900_Back\n",
      "Full scan in process for: Example2_1axis_2021-06-17_1000_Back\n",
      "Full scan in process for: Example2_1axis_2021-06-17_0700_Back\n",
      "Full scan in process for: Example2_1axis_2021-06-17_0800_Back\n"
     ]
    }
   ],
   "source": [
    "#%% Generate Skyfile & Octfiles and run simulations\n",
    "irrmapping.concurMap(demo, lineptsFronts, lineptsBacks, sys='1axis', accuracy='low')\n"
   ]
  },
  {
   "cell_type": "code",
   "execution_count": null,
   "id": "19149698",
   "metadata": {},
   "outputs": [],
   "source": []
  }
 ],
 "metadata": {
  "kernelspec": {
   "display_name": "Python 3 (ipykernel)",
   "language": "python",
   "name": "python3"
  },
  "language_info": {
   "codemirror_mode": {
    "name": "ipython",
    "version": 3
   },
   "file_extension": ".py",
   "mimetype": "text/x-python",
   "name": "python",
   "nbconvert_exporter": "python",
   "pygments_lexer": "ipython3",
   "version": "3.9.13"
  }
 },
 "nbformat": 4,
 "nbformat_minor": 5
}
